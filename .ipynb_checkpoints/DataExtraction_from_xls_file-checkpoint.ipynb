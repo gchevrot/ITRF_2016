{
 "cells": [
  {
   "cell_type": "markdown",
   "metadata": {},
   "source": [
    "Data selection from an Excel file with xlrd and pandas\n",
    "----------------------------------------------------------"
   ]
  },
  {
   "cell_type": "markdown",
   "metadata": {},
   "source": [
    "I wanted to explore the ITRF positions to see if I can be interested in some positions. Unfortunately, the [site](http://www.enseignementsup-recherche.gouv.fr/cid23693/s-inscrire-aux-concours-ingenieurs-et-personnels-techniques-de-recherche-et-de-formation-externes-et-internes-de-categorie-a.html#Liste_des_emplois_I.T.R.F._de_categorie_A) is quite awful and the list of positions consist of a excel file with more than 1000 rows.\n",
    "\n",
    "Of course I am not interested in this ~1000 positions, so I wrote this script to extract the positions I am interested in."
   ]
  },
  {
   "cell_type": "markdown",
   "metadata": {},
   "source": [
    "Pandas cannot read hyperlinks, so I used xlrd"
   ]
  },
  {
   "cell_type": "code",
   "execution_count": 1,
   "metadata": {
    "collapsed": true
   },
   "outputs": [],
   "source": [
    "%matplotlib inline\n",
    "import xlrd\n",
    "import pandas as pd\n",
    "#import numpy as np\n",
    "#import matplotlib.pyplot as plt\n",
    "#import matplotlib\n",
    "#matplotlib.style.use('ggplot')\n",
    "from IPython.display import IFrame # To visualize PDFs\n",
    "\n",
    "pd.set_option('max_colwidth',200)  # put a long limit otherwise pandas will cut the long URLs\n",
    "pd.options.display.max_rows = 8"
   ]
  },
  {
   "cell_type": "code",
   "execution_count": 2,
   "metadata": {
    "collapsed": false
   },
   "outputs": [],
   "source": [
    "book = xlrd.open_workbook(\"EMPLOIS_ITRF_CAT_A_2016_v1_556960.xls\")"
   ]
  },
  {
   "cell_type": "code",
   "execution_count": 3,
   "metadata": {
    "collapsed": false
   },
   "outputs": [],
   "source": [
    "sheet = book.sheet_by_index(0)"
   ]
  },
  {
   "cell_type": "code",
   "execution_count": 4,
   "metadata": {
    "collapsed": false
   },
   "outputs": [
    {
     "data": {
      "text/plain": [
       "'-> WebITRF'"
      ]
     },
     "execution_count": 4,
     "metadata": {},
     "output_type": "execute_result"
    }
   ],
   "source": [
    "sheet.cell_value(rowx=100,colx=7)"
   ]
  },
  {
   "cell_type": "code",
   "execution_count": 5,
   "metadata": {
    "collapsed": false
   },
   "outputs": [
    {
     "data": {
      "text/plain": [
       "['bap',\n",
       " 'corps',\n",
       " 'emploi-type',\n",
       " 'nature',\n",
       " 'centre organisateur du concours',\n",
       " 'affectataire\\n(établissement ou service recruteur)',\n",
       " 'localisation',\n",
       " 'coordonnees organisateur et affectataire & calendrier']"
      ]
     },
     "execution_count": 5,
     "metadata": {},
     "output_type": "execute_result"
    }
   ],
   "source": [
    "col_name = sheet.row_values(10)\n",
    "column_name = []\n",
    "for name in col_name:\n",
    "    column_name.append(name.lower())\n",
    "column_name"
   ]
  },
  {
   "cell_type": "code",
   "execution_count": 6,
   "metadata": {
    "collapsed": false
   },
   "outputs": [
    {
     "data": {
      "text/plain": [
       "['B',\n",
       " \"INGENIEUR D'ETUDES 2E CLASSE\",\n",
       " \"Ingénieur en techniques d'analyse chimique\",\n",
       " 'Externe',\n",
       " 'UNIVERSITÉ PARIS-EST CRÉTEIL VAL DE MARNE',\n",
       " 'UNIVERSITE ST ETIENNE         ',\n",
       " 'ST ETIENNE (042)',\n",
       " '-> WebITRF']"
      ]
     },
     "execution_count": 6,
     "metadata": {},
     "output_type": "execute_result"
    }
   ],
   "source": [
    "sheet.row_values(100)"
   ]
  },
  {
   "cell_type": "code",
   "execution_count": 7,
   "metadata": {
    "collapsed": false
   },
   "outputs": [
    {
     "data": {
      "text/plain": [
       "1053"
      ]
     },
     "execution_count": 7,
     "metadata": {},
     "output_type": "execute_result"
    }
   ],
   "source": [
    "sheet.nrows"
   ]
  },
  {
   "cell_type": "code",
   "execution_count": 8,
   "metadata": {
    "collapsed": false
   },
   "outputs": [
    {
     "data": {
      "text/plain": [
       "8"
      ]
     },
     "execution_count": 8,
     "metadata": {},
     "output_type": "execute_result"
    }
   ],
   "source": [
    "sheet.ncols"
   ]
  },
  {
   "cell_type": "markdown",
   "metadata": {},
   "source": [
    "#### I want to extract the hyperlink \"-> WebITRF\""
   ]
  },
  {
   "cell_type": "code",
   "execution_count": 9,
   "metadata": {
    "collapsed": false
   },
   "outputs": [
    {
     "data": {
      "text/html": [
       "<div>\n",
       "<table border=\"1\" class=\"dataframe\">\n",
       "  <thead>\n",
       "    <tr style=\"text-align: right;\">\n",
       "      <th></th>\n",
       "      <th>bap</th>\n",
       "      <th>corps</th>\n",
       "      <th>emploi-type</th>\n",
       "      <th>nature</th>\n",
       "      <th>centre-organisateur</th>\n",
       "      <th>affectation</th>\n",
       "      <th>localisation</th>\n",
       "      <th>link</th>\n",
       "    </tr>\n",
       "  </thead>\n",
       "  <tbody>\n",
       "  </tbody>\n",
       "</table>\n",
       "</div>"
      ],
      "text/plain": [
       "Empty DataFrame\n",
       "Columns: [bap, corps, emploi-type, nature, centre-organisateur, affectation, localisation, link]\n",
       "Index: []"
      ]
     },
     "execution_count": 9,
     "metadata": {},
     "output_type": "execute_result"
    }
   ],
   "source": [
    "df = pd.DataFrame(columns=(column_name))\n",
    "df.rename(columns={'coordonnees organisateur et affectataire & calendrier' : \"link\"}, inplace=True)\n",
    "df.rename(columns={'centre organisateur du concours' : \"centre-organisateur\"}, inplace=True)\n",
    "df.rename(columns={'affectataire\\n(établissement ou service recruteur)' : \"affectation\"}, inplace=True)\n",
    "df"
   ]
  },
  {
   "cell_type": "code",
   "execution_count": 10,
   "metadata": {
    "collapsed": false
   },
   "outputs": [
    {
     "data": {
      "text/html": [
       "<div>\n",
       "<table border=\"1\" class=\"dataframe\">\n",
       "  <thead>\n",
       "    <tr style=\"text-align: right;\">\n",
       "      <th></th>\n",
       "      <th>bap</th>\n",
       "      <th>corps</th>\n",
       "      <th>emploi-type</th>\n",
       "      <th>nature</th>\n",
       "      <th>centre-organisateur</th>\n",
       "      <th>affectation</th>\n",
       "      <th>localisation</th>\n",
       "      <th>link</th>\n",
       "    </tr>\n",
       "  </thead>\n",
       "  <tbody>\n",
       "    <tr>\n",
       "      <th>0</th>\n",
       "      <td>B</td>\n",
       "      <td>INGENIEUR D'ETUDES 2E CLASSE</td>\n",
       "      <td>Ingénieur en techniques d'analyse chimique</td>\n",
       "      <td>Externe</td>\n",
       "      <td>UNIVERSITÉ PARIS-EST CRÉTEIL VAL DE MARNE</td>\n",
       "      <td>UNIVERSITE ST ETIENNE</td>\n",
       "      <td>ST ETIENNE (042)</td>\n",
       "      <td>-&gt; WebITRF</td>\n",
       "    </tr>\n",
       "  </tbody>\n",
       "</table>\n",
       "</div>"
      ],
      "text/plain": [
       "  bap                         corps  \\\n",
       "0   B  INGENIEUR D'ETUDES 2E CLASSE   \n",
       "\n",
       "                                  emploi-type   nature  \\\n",
       "0  Ingénieur en techniques d'analyse chimique  Externe   \n",
       "\n",
       "                         centre-organisateur                     affectation  \\\n",
       "0  UNIVERSITÉ PARIS-EST CRÉTEIL VAL DE MARNE  UNIVERSITE ST ETIENNE            \n",
       "\n",
       "       localisation        link  \n",
       "0  ST ETIENNE (042)  -> WebITRF  "
      ]
     },
     "execution_count": 10,
     "metadata": {},
     "output_type": "execute_result"
    }
   ],
   "source": [
    "df.loc[0]= sheet.row_values(100)\n",
    "df"
   ]
  },
  {
   "cell_type": "code",
   "execution_count": 11,
   "metadata": {
    "collapsed": false
   },
   "outputs": [],
   "source": [
    "row_start = 11   # 9 lines are empty?\n",
    "for row in range(row_start, sheet.nrows):\n",
    "    rowValues = sheet.row_values(row, start_colx=0, end_colx=sheet.ncols)\n",
    "    bap = rowValues[0]\n",
    "    corps = rowValues[1]\n",
    "    emploi_type = rowValues[2]\n",
    "    nature = rowValues[3]\n",
    "    centre_organisateur = rowValues[4]\n",
    "    centre_recruteur = rowValues[5]\n",
    "    localisation = rowValues[6]\n",
    "    # column 7:\n",
    "    link = sheet.hyperlink_map.get((row, sheet.ncols-1))\n",
    "    url = '(No URL)' if link is None else link.url_or_path\n",
    "    \n",
    "    #print(corps.ljust(10) + ': ' + url)\n",
    "    # Append the row to the data frame:\n",
    "    df.loc[row-row_start] = [bap, corps, emploi_type, nature, centre_organisateur, centre_recruteur, localisation, url]"
   ]
  },
  {
   "cell_type": "code",
   "execution_count": 12,
   "metadata": {
    "collapsed": false
   },
   "outputs": [
    {
     "data": {
      "text/html": [
       "<div>\n",
       "<table border=\"1\" class=\"dataframe\">\n",
       "  <thead>\n",
       "    <tr style=\"text-align: right;\">\n",
       "      <th></th>\n",
       "      <th>bap</th>\n",
       "      <th>corps</th>\n",
       "      <th>emploi-type</th>\n",
       "      <th>nature</th>\n",
       "      <th>centre-organisateur</th>\n",
       "      <th>affectation</th>\n",
       "      <th>localisation</th>\n",
       "      <th>link</th>\n",
       "    </tr>\n",
       "  </thead>\n",
       "  <tbody>\n",
       "    <tr>\n",
       "      <th>0</th>\n",
       "      <td>A</td>\n",
       "      <td>INGENIEUR DE RECHERCHE 2E CLASSE</td>\n",
       "      <td>Ingénieur en biologie</td>\n",
       "      <td>Externe</td>\n",
       "      <td>UNIVERSITÉ DE BORDEAUX</td>\n",
       "      <td>UNIVERSITE CLERMONT FERRAND 1</td>\n",
       "      <td>CLERMONT FERRAND (063)</td>\n",
       "      <td>http://www.itrf.education.gouv.fr/itrf/resultats.do?CodeConcours=A1A23IR2EB10631262E</td>\n",
       "    </tr>\n",
       "    <tr>\n",
       "      <th>1</th>\n",
       "      <td>A</td>\n",
       "      <td>INGENIEUR DE RECHERCHE 2E CLASSE</td>\n",
       "      <td>Ingénieur en biologie</td>\n",
       "      <td>Externe</td>\n",
       "      <td>UNIVERSITÉ DE BORDEAUX</td>\n",
       "      <td>UNIVERSITE CLERMONT FERRAND 1</td>\n",
       "      <td>CLERMONT FERRAND (063)</td>\n",
       "      <td>http://www.itrf.education.gouv.fr/itrf/resultats.do?CodeConcours=A1A23IR2EB10631262E</td>\n",
       "    </tr>\n",
       "    <tr>\n",
       "      <th>2</th>\n",
       "      <td>A</td>\n",
       "      <td>INGENIEUR DE RECHERCHE 2E CLASSE</td>\n",
       "      <td>Ingénieur en biologie</td>\n",
       "      <td>Externe</td>\n",
       "      <td>UNIVERSITÉ DE BORDEAUX</td>\n",
       "      <td>UNIVERSITE D'AMIENS</td>\n",
       "      <td>AMIENS (080)</td>\n",
       "      <td>http://www.itrf.education.gouv.fr/itrf/resultats.do?CodeConcours=A1A23IR2EB10801344B</td>\n",
       "    </tr>\n",
       "    <tr>\n",
       "      <th>3</th>\n",
       "      <td>A</td>\n",
       "      <td>INGENIEUR DE RECHERCHE 2E CLASSE</td>\n",
       "      <td>Ingénieur en biologie</td>\n",
       "      <td>Externe</td>\n",
       "      <td>UNIVERSITÉ DE BORDEAUX</td>\n",
       "      <td>UNIVERSITE DE LORRAINE</td>\n",
       "      <td>VANDOEUVRE LES NANCY (054)</td>\n",
       "      <td>http://www.itrf.education.gouv.fr/itrf/resultats.do?CodeConcours=A1A23IR2EB10542493S</td>\n",
       "    </tr>\n",
       "    <tr>\n",
       "      <th>...</th>\n",
       "      <td>...</td>\n",
       "      <td>...</td>\n",
       "      <td>...</td>\n",
       "      <td>...</td>\n",
       "      <td>...</td>\n",
       "      <td>...</td>\n",
       "      <td>...</td>\n",
       "      <td>...</td>\n",
       "    </tr>\n",
       "    <tr>\n",
       "      <th>1038</th>\n",
       "      <td>J</td>\n",
       "      <td>ASSISTANTS INGENIEURS (RECH. ET FORM.)</td>\n",
       "      <td>Assistant en gestion administrative</td>\n",
       "      <td>Interne</td>\n",
       "      <td>ECOLE NORMALE SUPERIEURE DE CACHAN</td>\n",
       "      <td>UNIVERSITE PARIS 9</td>\n",
       "      <td>PARIS 16 (075)</td>\n",
       "      <td>http://www.itrf.education.gouv.fr/itrf/resultats.do?CodeConcours=J3X21ASIISC0750736T</td>\n",
       "    </tr>\n",
       "    <tr>\n",
       "      <th>1039</th>\n",
       "      <td>J</td>\n",
       "      <td>ASSISTANTS INGENIEURS (RECH. ET FORM.)</td>\n",
       "      <td>Assistant en gestion administrative</td>\n",
       "      <td>Interne</td>\n",
       "      <td>ECOLE NORMALE SUPERIEURE DE CACHAN</td>\n",
       "      <td>UNIVERSITE PARIS 9</td>\n",
       "      <td>PARIS 16 (075)</td>\n",
       "      <td>http://www.itrf.education.gouv.fr/itrf/resultats.do?CodeConcours=J3X21ASIISC0750736T</td>\n",
       "    </tr>\n",
       "    <tr>\n",
       "      <th>1040</th>\n",
       "      <td>J</td>\n",
       "      <td>ASSISTANTS INGENIEURS (RECH. ET FORM.)</td>\n",
       "      <td>Assistant en gestion administrative</td>\n",
       "      <td>Interne</td>\n",
       "      <td>ECOLE NORMALE SUPERIEURE DE CACHAN</td>\n",
       "      <td>UNIVERSITE STRASBOURG</td>\n",
       "      <td>STRASBOURG (067)</td>\n",
       "      <td>http://www.itrf.education.gouv.fr/itrf/resultats.do?CodeConcours=J3X21ASIISC0673021V</td>\n",
       "    </tr>\n",
       "    <tr>\n",
       "      <th>1041</th>\n",
       "      <td>J</td>\n",
       "      <td>ASSISTANTS INGENIEURS (RECH. ET FORM.)</td>\n",
       "      <td>Assistant en gestion administrative</td>\n",
       "      <td>Interne</td>\n",
       "      <td>ECOLE NORMALE SUPERIEURE DE CACHAN</td>\n",
       "      <td>UNIVERSITE TOULOUSE 2</td>\n",
       "      <td>TOULOUSE (031)</td>\n",
       "      <td>http://www.itrf.education.gouv.fr/itrf/resultats.do?CodeConcours=J3X21ASIISC0311383K</td>\n",
       "    </tr>\n",
       "  </tbody>\n",
       "</table>\n",
       "<p>1042 rows × 8 columns</p>\n",
       "</div>"
      ],
      "text/plain": [
       "     bap                                   corps  \\\n",
       "0      A        INGENIEUR DE RECHERCHE 2E CLASSE   \n",
       "1      A        INGENIEUR DE RECHERCHE 2E CLASSE   \n",
       "2      A        INGENIEUR DE RECHERCHE 2E CLASSE   \n",
       "3      A        INGENIEUR DE RECHERCHE 2E CLASSE   \n",
       "...   ..                                     ...   \n",
       "1038   J  ASSISTANTS INGENIEURS (RECH. ET FORM.)   \n",
       "1039   J  ASSISTANTS INGENIEURS (RECH. ET FORM.)   \n",
       "1040   J  ASSISTANTS INGENIEURS (RECH. ET FORM.)   \n",
       "1041   J  ASSISTANTS INGENIEURS (RECH. ET FORM.)   \n",
       "\n",
       "                              emploi-type   nature  \\\n",
       "0                   Ingénieur en biologie  Externe   \n",
       "1                   Ingénieur en biologie  Externe   \n",
       "2                   Ingénieur en biologie  Externe   \n",
       "3                   Ingénieur en biologie  Externe   \n",
       "...                                   ...      ...   \n",
       "1038  Assistant en gestion administrative  Interne   \n",
       "1039  Assistant en gestion administrative  Interne   \n",
       "1040  Assistant en gestion administrative  Interne   \n",
       "1041  Assistant en gestion administrative  Interne   \n",
       "\n",
       "                     centre-organisateur                     affectation  \\\n",
       "0                 UNIVERSITÉ DE BORDEAUX  UNIVERSITE CLERMONT FERRAND 1    \n",
       "1                 UNIVERSITÉ DE BORDEAUX  UNIVERSITE CLERMONT FERRAND 1    \n",
       "2                 UNIVERSITÉ DE BORDEAUX  UNIVERSITE D'AMIENS              \n",
       "3                 UNIVERSITÉ DE BORDEAUX  UNIVERSITE DE LORRAINE           \n",
       "...                                  ...                             ...   \n",
       "1038  ECOLE NORMALE SUPERIEURE DE CACHAN  UNIVERSITE PARIS 9               \n",
       "1039  ECOLE NORMALE SUPERIEURE DE CACHAN  UNIVERSITE PARIS 9               \n",
       "1040  ECOLE NORMALE SUPERIEURE DE CACHAN  UNIVERSITE STRASBOURG            \n",
       "1041  ECOLE NORMALE SUPERIEURE DE CACHAN  UNIVERSITE TOULOUSE 2            \n",
       "\n",
       "                    localisation  \\\n",
       "0         CLERMONT FERRAND (063)   \n",
       "1         CLERMONT FERRAND (063)   \n",
       "2                   AMIENS (080)   \n",
       "3     VANDOEUVRE LES NANCY (054)   \n",
       "...                          ...   \n",
       "1038              PARIS 16 (075)   \n",
       "1039              PARIS 16 (075)   \n",
       "1040            STRASBOURG (067)   \n",
       "1041              TOULOUSE (031)   \n",
       "\n",
       "                                                                                      link  \n",
       "0     http://www.itrf.education.gouv.fr/itrf/resultats.do?CodeConcours=A1A23IR2EB10631262E  \n",
       "1     http://www.itrf.education.gouv.fr/itrf/resultats.do?CodeConcours=A1A23IR2EB10631262E  \n",
       "2     http://www.itrf.education.gouv.fr/itrf/resultats.do?CodeConcours=A1A23IR2EB10801344B  \n",
       "3     http://www.itrf.education.gouv.fr/itrf/resultats.do?CodeConcours=A1A23IR2EB10542493S  \n",
       "...                                                                                    ...  \n",
       "1038  http://www.itrf.education.gouv.fr/itrf/resultats.do?CodeConcours=J3X21ASIISC0750736T  \n",
       "1039  http://www.itrf.education.gouv.fr/itrf/resultats.do?CodeConcours=J3X21ASIISC0750736T  \n",
       "1040  http://www.itrf.education.gouv.fr/itrf/resultats.do?CodeConcours=J3X21ASIISC0673021V  \n",
       "1041  http://www.itrf.education.gouv.fr/itrf/resultats.do?CodeConcours=J3X21ASIISC0311383K  \n",
       "\n",
       "[1042 rows x 8 columns]"
      ]
     },
     "execution_count": 12,
     "metadata": {},
     "output_type": "execute_result"
    }
   ],
   "source": [
    "df"
   ]
  },
  {
   "cell_type": "markdown",
   "metadata": {},
   "source": [
    "#### What are the different \"corps\"?"
   ]
  },
  {
   "cell_type": "code",
   "execution_count": 13,
   "metadata": {
    "collapsed": false
   },
   "outputs": [
    {
     "data": {
      "text/plain": [
       "{'ASSISTANTS INGENIEURS (RECH. ET FORM.)',\n",
       " \"INGENIEUR D'ETUDES 2E CLASSE\",\n",
       " 'INGENIEUR DE RECHERCHE 1E CLASSE',\n",
       " 'INGENIEUR DE RECHERCHE 2E CLASSE'}"
      ]
     },
     "execution_count": 13,
     "metadata": {},
     "output_type": "execute_result"
    }
   ],
   "source": [
    "corps = set([corps for corps in df['corps']]); corps"
   ]
  },
  {
   "cell_type": "markdown",
   "metadata": {},
   "source": [
    "#### What are the different type of jobs?"
   ]
  },
  {
   "cell_type": "code",
   "execution_count": 14,
   "metadata": {
    "collapsed": false
   },
   "outputs": [
    {
     "data": {
      "text/plain": [
       "{\"Administrateur de systèmes d'information\",\n",
       " 'Administrateur systèmes informatiques, réseaux et télécommunications',\n",
       " \"Architecte des systèmes d'information\",\n",
       " 'Assistant cartographe',\n",
       " \"Assistant d'orientation et d'insertion professionnelle\",\n",
       " 'Assistant de communication',\n",
       " 'Assistant de fabrication',\n",
       " \"Assistant de l'action culturelle\",\n",
       " 'Assistant de médiation scientifique',\n",
       " 'Assistant de ressources documentaires',\n",
       " 'Assistant de rédaction/édition',\n",
       " \"Assistant des métiers de l'image et du son\",\n",
       " 'Assistant en expérimentation et instrumentation biologiques',\n",
       " 'Assistant en fabrication mécanique',\n",
       " 'Assistant en gestion administrative',\n",
       " 'Assistant en gestion des ressources humaines',\n",
       " 'Assistant en gestion financière et comptable',\n",
       " 'Assistant en hygiène et sécurité',\n",
       " 'Assistant en ingénierie de formation continue',\n",
       " 'Assistant en instrumentation scientifique et techniques expérimentales',\n",
       " 'Assistant en production et analyse de données',\n",
       " \"Assistant en technIques d'élevage et production animale\",\n",
       " \"Assistant en technique d'analyse des biomolécules\",\n",
       " 'Assistant en techniques biologiques',\n",
       " \"Assistant en techniques d'analyse chimique\",\n",
       " \"Assistant en techniques d'expérimentation animale\",\n",
       " 'Assistant en techniques de production et expérimentation végétales',\n",
       " 'Assistant en études mécaniques',\n",
       " 'Assistant gestion de données patrimoniales',\n",
       " 'Assistant logistique',\n",
       " 'Assistant systèmes et techniques audiovisuelles et multimédia',\n",
       " 'Assistant technique génie climatique',\n",
       " 'Assistant technique maintenance et travaux immobiliers',\n",
       " 'Assistant technique électricité',\n",
       " 'Assistant électronicien',\n",
       " 'Assistant électrotechnicien',\n",
       " \"Chargé d'animation et d'ingénierie en formation continue\",\n",
       " \"Chargé d'archives\",\n",
       " \"Chargé d'orientation et d'insertion professionnelle\",\n",
       " 'Chargé de collections muséales',\n",
       " 'Chargé de communication et des média',\n",
       " \"Chargé de gestion administrative et d'aide au pilotage\",\n",
       " \"Chargé de l'action culturelle\",\n",
       " 'Chargé de la GPEEC',\n",
       " 'Chargé de la coopération internationale',\n",
       " 'Chargé de la formation des personnels',\n",
       " 'Chargé de la gestion des ressources humaines',\n",
       " 'Chargé de la gestion financière et comptable',\n",
       " 'Chargé de la valorisation de la recherche',\n",
       " 'Chargé de médiation scientifique',\n",
       " 'Chargé de ressources documentaires',\n",
       " \"Chargé de système d'information  documentaire\",\n",
       " 'Chargé des achats et des marchés',\n",
       " 'Chargé des affaires juridiques',\n",
       " 'Chargé des contrats de recherche',\n",
       " \"Chargé du contrôle de gestion et/ou d'études\",\n",
       " 'Chef de projet ou expert en calcul scientifique',\n",
       " 'Chef de projet ou expert en conception du contrôle/commande en instrumentation',\n",
       " \"Chef de projet ou expert en conception ou intégration d'instruments\",\n",
       " \"Chef de projet ou expert en développement et déploiement d'applications\",\n",
       " 'Chef de projet ou expert en fabrication mécanique',\n",
       " 'Chef de projet ou expert en information statistique',\n",
       " 'Chef de projet ou expert systèmes informatiques, réseaux et télécommunications',\n",
       " 'Chef de projet ou expert électronicien en conception et développement',\n",
       " 'Concepteur rédacteur site WEB',\n",
       " 'Conducteur sur grand instrument',\n",
       " 'Designer Arts graphiques',\n",
       " 'Dessinateur maquettiste infographiste',\n",
       " 'Développeur multimédia WEB',\n",
       " \"Développeur, intégrateur d'applications\",\n",
       " 'Gestionnaire de base de données',\n",
       " 'Gestionnaire de parc informatique et télécommunications',\n",
       " \"Iingénieur en techniques d'analyse des biomolécules\",\n",
       " 'Ingénieur biologiste en plateforme scientifique',\n",
       " \"Ingénieur d'étude en archéologie\",\n",
       " \"Ingénieur d'étude en production et analyse de données\",\n",
       " \"Ingénieur d'étude en traitement et analyse de base de données\",\n",
       " \"Ingénieur d'étude en traitement, analyse et représentation de l'information spatiale\",\n",
       " 'Ingénieur de recherche en production et analyse de données',\n",
       " 'Ingénieur de recherche en traitement et analyse de bases de données',\n",
       " \"Ingénieur de recherche en traitement, analyse et représentation de l'information spatiale\",\n",
       " 'Ingénieur des systèmes et techniques audiovisuels et multimédia',\n",
       " 'Ingénieur du patrimoine immobilier et/ou logistique',\n",
       " 'Ingénieur en analyse chimique',\n",
       " 'Ingénieur en analyse de biomolécules',\n",
       " 'Ingénieur en analyse de données biologiques',\n",
       " 'Ingénieur en biologie',\n",
       " 'Ingénieur en calcul scientifique',\n",
       " 'Ingénieur en conception et développement en expérimentation',\n",
       " 'Ingénieur en conception instrumentale',\n",
       " 'Ingénieur en contrôle/commande en instrumentation',\n",
       " \"Ingénieur en développement et déploiement d'applications\",\n",
       " 'Ingénieur en expérimentation animale',\n",
       " 'Ingénieur en expérimentation et instrumentation biologiques',\n",
       " 'Ingénieur en hygiène et sécurité',\n",
       " 'Ingénieur en prévention des risques',\n",
       " 'Ingénieur en sciences des matériaux/caractérisation',\n",
       " 'Ingénieur en synthèse chimique',\n",
       " 'Ingénieur en techniques biologiques',\n",
       " \"Ingénieur en techniques d'analyse chimique\",\n",
       " \"Ingénieur en techniques d'expérimentation animale\",\n",
       " \"Ingénieur en techniques d'élevage et production animale\",\n",
       " \"Ingénieur en techniques d'étude des milieux naturels et ruraux\",\n",
       " 'Ingénieur en techniques de sciences des matériaux/caractérisation',\n",
       " 'Ingénieur en techniques de synthèse chimique',\n",
       " 'Ingénieur en techniques expérimentales',\n",
       " 'Ingénieur en technologie de la formation',\n",
       " 'Ingénieur en traitement de données biologiques',\n",
       " 'Ingénieur en élaboration de matériaux en couches minces',\n",
       " 'Ingénieur en élaboration, mise en forme, traitement et contrôle des matériaux',\n",
       " 'Ingénieur maintenance et travaux immobiliers et/ou logistique',\n",
       " 'Ingénieur statisticien',\n",
       " 'Ingénieur système instrumentation',\n",
       " 'Ingénieur électronicien en développement et/ou expérimentation',\n",
       " 'Intégrateur multimédia WEB',\n",
       " 'Qualiticien',\n",
       " 'Responsable TICE',\n",
       " \"Responsable d'exploitation d'un groupement de restaurants\",\n",
       " 'Responsable de communication',\n",
       " \"Responsable de l'administration et du pilotage\",\n",
       " \"Responsable de l'orientation et de l'insertion professionnelle\",\n",
       " 'Responsable de la coopération internationale ',\n",
       " 'Responsable de la formation continue',\n",
       " 'Responsable de la gestion des ressources humaines',\n",
       " 'Responsable de la gestion financière et comptable',\n",
       " 'Responsable de la valorisation de la recherche',\n",
       " 'Responsable de médiation scientifique',\n",
       " 'Responsable de production audiovisuelle et multimédia',\n",
       " 'Responsable de ressources documentaires',\n",
       " 'Responsable des affaires juridiques',\n",
       " 'Responsable éditorial multi supports',\n",
       " 'Réalisateur audiovisuel  multimédia',\n",
       " \"Secrétaire d'édition\",\n",
       " 'Secrétaire de rédaction'}"
      ]
     },
     "execution_count": 14,
     "metadata": {},
     "output_type": "execute_result"
    }
   ],
   "source": [
    "job_type = set([job for job in df['emploi-type']]); job_type"
   ]
  },
  {
   "cell_type": "markdown",
   "metadata": {},
   "source": [
    "### Basic analysis"
   ]
  },
  {
   "cell_type": "markdown",
   "metadata": {},
   "source": [
    "Compare number of position per type of \"corps\" and in each \"emploi-type\" and \"Externe\" Vs \"Interne\" "
   ]
  },
  {
   "cell_type": "code",
   "execution_count": 15,
   "metadata": {
    "collapsed": false
   },
   "outputs": [
    {
     "name": "stdout",
     "output_type": "stream",
     "text": [
      "Number of IR 1 positions: 6\n",
      "Pourcentage of IR 1 position: 0.58\n",
      "Number of IR 2 positions: 154\n",
      "Pourcentage of IR 2 position: 14.78\n"
     ]
    }
   ],
   "source": [
    "ir1 = len(df[(df.corps == \"INGENIEUR DE RECHERCHE 1E CLASSE\")])/len(df)*100\n",
    "ir2 = len(df[(df.corps == \"INGENIEUR DE RECHERCHE 2E CLASSE\")])/len(df)*100\n",
    "print(\"Number of IR 1 positions: {0:d}\".format(len(df[(df.corps == \"INGENIEUR DE RECHERCHE 1E CLASSE\")])))\n",
    "print(\"Pourcentage of IR 1 position: {0:.2f}\".format(ir1))\n",
    "print(\"Number of IR 2 positions: {0:d}\".format(len(df[(df.corps == \"INGENIEUR DE RECHERCHE 2E CLASSE\")])))\n",
    "print(\"Pourcentage of IR 2 position: {0:.2f}\".format(ir2))"
   ]
  },
  {
   "cell_type": "markdown",
   "metadata": {},
   "source": [
    "### Classification based on the \"corps\" and job type"
   ]
  },
  {
   "cell_type": "markdown",
   "metadata": {
    "collapsed": true
   },
   "source": [
    "Combining \"corps\" and job type:"
   ]
  },
  {
   "cell_type": "code",
   "execution_count": 16,
   "metadata": {
    "collapsed": true
   },
   "outputs": [],
   "source": [
    "my_corps_selection = [\"INGENIEUR DE RECHERCHE 1E CLASSE\", \"INGENIEUR DE RECHERCHE 2E CLASSE\"]"
   ]
  },
  {
   "cell_type": "code",
   "execution_count": 17,
   "metadata": {
    "collapsed": true
   },
   "outputs": [],
   "source": [
    "my_job_type = [\"Chef de projet ou expert en calcul scientifique\", \n",
    "               \"Chef de projet ou expert en information statistique\",\n",
    "               \"Chef de projet ou expert en développement et déploiement d'applications\",\n",
    "               \"Gestionnaire de base de données\",\n",
    "               \"Ingénieur de recherche en traitement et analyse de bases de données\",\n",
    "               \"Ingénieur en analyse de données biologiques\",\n",
    "               \"Ingénieur en calcul scientifique\",\n",
    "               \"Ingénieur en développement et déploiement d'applications\",\n",
    "               \"Ingénieur en traitement de données biologiques\",\n",
    "               \"Ingénieur statisticien\"\n",
    "              ]"
   ]
  },
  {
   "cell_type": "code",
   "execution_count": 18,
   "metadata": {
    "collapsed": false
   },
   "outputs": [],
   "source": [
    "#df[((df.corps == \"INGENIEUR DE RECHERCHE 1E CLASSE\") | (df.corps == \"INGENIEUR DE RECHERCHE 2E CLASSE\")) ]"
   ]
  },
  {
   "cell_type": "code",
   "execution_count": 19,
   "metadata": {
    "collapsed": false
   },
   "outputs": [
    {
     "data": {
      "text/html": [
       "<div>\n",
       "<table border=\"1\" class=\"dataframe\">\n",
       "  <thead>\n",
       "    <tr style=\"text-align: right;\">\n",
       "      <th></th>\n",
       "      <th>bap</th>\n",
       "      <th>corps</th>\n",
       "      <th>emploi-type</th>\n",
       "      <th>nature</th>\n",
       "      <th>centre-organisateur</th>\n",
       "      <th>affectation</th>\n",
       "      <th>localisation</th>\n",
       "      <th>link</th>\n",
       "    </tr>\n",
       "  </thead>\n",
       "  <tbody>\n",
       "    <tr>\n",
       "      <th>18</th>\n",
       "      <td>A</td>\n",
       "      <td>INGENIEUR DE RECHERCHE 2E CLASSE</td>\n",
       "      <td>Ingénieur en analyse de données biologiques</td>\n",
       "      <td>Externe</td>\n",
       "      <td>UNIVERSITÉ DE STRASBOURG</td>\n",
       "      <td>MUSEUM NAT.HIST.NATUREL.PARIS</td>\n",
       "      <td>PARIS 16 (075)</td>\n",
       "      <td>http://www.itrf.education.gouv.fr/itrf/resultats.do?CodeConcours=A1A21IR2ES10753494R</td>\n",
       "    </tr>\n",
       "    <tr>\n",
       "      <th>176</th>\n",
       "      <td>D</td>\n",
       "      <td>INGENIEUR DE RECHERCHE 2E CLASSE</td>\n",
       "      <td>Ingénieur de recherche en traitement et analyse de bases de données</td>\n",
       "      <td>Externe</td>\n",
       "      <td>UNIVERSITÉ DE CERGY-PONTOISE</td>\n",
       "      <td>UNIVERSITE PARIS 7</td>\n",
       "      <td>PARIS 13 (075)</td>\n",
       "      <td>http://www.itrf.education.gouv.fr/itrf/resultats.do?CodeConcours=D1A21IR2ECP0751723R</td>\n",
       "    </tr>\n",
       "    <tr>\n",
       "      <th>196</th>\n",
       "      <td>E</td>\n",
       "      <td>INGENIEUR DE RECHERCHE 1E CLASSE</td>\n",
       "      <td>Chef de projet ou expert en développement et déploiement d'applications</td>\n",
       "      <td>Externe</td>\n",
       "      <td>UNIVERSITÉ DE PICARDIE JULES VERNE</td>\n",
       "      <td>UNIVERSITE LYON 2</td>\n",
       "      <td>BRON (069)</td>\n",
       "      <td>http://www.itrf.education.gouv.fr/itrf/resultats.do?CodeConcours=E1B22IR1EAM0691775E</td>\n",
       "    </tr>\n",
       "    <tr>\n",
       "      <th>205</th>\n",
       "      <td>E</td>\n",
       "      <td>INGENIEUR DE RECHERCHE 2E CLASSE</td>\n",
       "      <td>Chef de projet ou expert en information statistique</td>\n",
       "      <td>Externe</td>\n",
       "      <td>UNIVERSITE DU HAVRE</td>\n",
       "      <td>ADMINISTRATION CENTRALE MEN</td>\n",
       "      <td>PARIS  7 (075)</td>\n",
       "      <td>http://www.itrf.education.gouv.fr/itrf/resultats.do?CodeConcours=E1D24IR2ELH0752310D</td>\n",
       "    </tr>\n",
       "    <tr>\n",
       "      <th>...</th>\n",
       "      <td>...</td>\n",
       "      <td>...</td>\n",
       "      <td>...</td>\n",
       "      <td>...</td>\n",
       "      <td>...</td>\n",
       "      <td>...</td>\n",
       "      <td>...</td>\n",
       "      <td>...</td>\n",
       "    </tr>\n",
       "    <tr>\n",
       "      <th>223</th>\n",
       "      <td>E</td>\n",
       "      <td>INGENIEUR DE RECHERCHE 2E CLASSE</td>\n",
       "      <td>Chef de projet ou expert en développement et déploiement d'applications</td>\n",
       "      <td>Externe</td>\n",
       "      <td>UNIVERSITÉ DE PICARDIE JULES VERNE</td>\n",
       "      <td>RECTORAT DE VERSAILLES</td>\n",
       "      <td>GUYANCOURT (ACAD. VERSAILLES)</td>\n",
       "      <td>http://www.itrf.education.gouv.fr/itrf/resultats.do?CodeConcours=E1B22IR2EAM0780503Y</td>\n",
       "    </tr>\n",
       "    <tr>\n",
       "      <th>224</th>\n",
       "      <td>E</td>\n",
       "      <td>INGENIEUR DE RECHERCHE 2E CLASSE</td>\n",
       "      <td>Chef de projet ou expert en développement et déploiement d'applications</td>\n",
       "      <td>Externe</td>\n",
       "      <td>UNIVERSITÉ DE PICARDIE JULES VERNE</td>\n",
       "      <td>RECTORAT D'ORLEANS</td>\n",
       "      <td>ORLEANS (045)</td>\n",
       "      <td>http://www.itrf.education.gouv.fr/itrf/resultats.do?CodeConcours=E1B22IR2EAM0450080T</td>\n",
       "    </tr>\n",
       "    <tr>\n",
       "      <th>225</th>\n",
       "      <td>E</td>\n",
       "      <td>INGENIEUR DE RECHERCHE 2E CLASSE</td>\n",
       "      <td>Chef de projet ou expert en développement et déploiement d'applications</td>\n",
       "      <td>Externe</td>\n",
       "      <td>UNIVERSITÉ DE PICARDIE JULES VERNE</td>\n",
       "      <td>UNIVERSITE GRENOBLE ALPES</td>\n",
       "      <td>ST MARTIN D HERES (038)</td>\n",
       "      <td>http://www.itrf.education.gouv.fr/itrf/resultats.do?CodeConcours=E1B22IR2EAM0383493R</td>\n",
       "    </tr>\n",
       "    <tr>\n",
       "      <th>226</th>\n",
       "      <td>E</td>\n",
       "      <td>INGENIEUR DE RECHERCHE 2E CLASSE</td>\n",
       "      <td>Chef de projet ou expert en développement et déploiement d'applications</td>\n",
       "      <td>Externe</td>\n",
       "      <td>UNIVERSITÉ DE PICARDIE JULES VERNE</td>\n",
       "      <td>UNIVERSITE PARIS 5</td>\n",
       "      <td>PARIS  6 (075)</td>\n",
       "      <td>http://www.itrf.education.gouv.fr/itrf/resultats.do?CodeConcours=E1B22IR2EAM0751721N</td>\n",
       "    </tr>\n",
       "  </tbody>\n",
       "</table>\n",
       "<p>24 rows × 8 columns</p>\n",
       "</div>"
      ],
      "text/plain": [
       "    bap                             corps  \\\n",
       "18    A  INGENIEUR DE RECHERCHE 2E CLASSE   \n",
       "176   D  INGENIEUR DE RECHERCHE 2E CLASSE   \n",
       "196   E  INGENIEUR DE RECHERCHE 1E CLASSE   \n",
       "205   E  INGENIEUR DE RECHERCHE 2E CLASSE   \n",
       "..   ..                               ...   \n",
       "223   E  INGENIEUR DE RECHERCHE 2E CLASSE   \n",
       "224   E  INGENIEUR DE RECHERCHE 2E CLASSE   \n",
       "225   E  INGENIEUR DE RECHERCHE 2E CLASSE   \n",
       "226   E  INGENIEUR DE RECHERCHE 2E CLASSE   \n",
       "\n",
       "                                                                 emploi-type  \\\n",
       "18                               Ingénieur en analyse de données biologiques   \n",
       "176      Ingénieur de recherche en traitement et analyse de bases de données   \n",
       "196  Chef de projet ou expert en développement et déploiement d'applications   \n",
       "205                      Chef de projet ou expert en information statistique   \n",
       "..                                                                       ...   \n",
       "223  Chef de projet ou expert en développement et déploiement d'applications   \n",
       "224  Chef de projet ou expert en développement et déploiement d'applications   \n",
       "225  Chef de projet ou expert en développement et déploiement d'applications   \n",
       "226  Chef de projet ou expert en développement et déploiement d'applications   \n",
       "\n",
       "      nature                 centre-organisateur  \\\n",
       "18   Externe            UNIVERSITÉ DE STRASBOURG   \n",
       "176  Externe        UNIVERSITÉ DE CERGY-PONTOISE   \n",
       "196  Externe  UNIVERSITÉ DE PICARDIE JULES VERNE   \n",
       "205  Externe                 UNIVERSITE DU HAVRE   \n",
       "..       ...                                 ...   \n",
       "223  Externe  UNIVERSITÉ DE PICARDIE JULES VERNE   \n",
       "224  Externe  UNIVERSITÉ DE PICARDIE JULES VERNE   \n",
       "225  Externe  UNIVERSITÉ DE PICARDIE JULES VERNE   \n",
       "226  Externe  UNIVERSITÉ DE PICARDIE JULES VERNE   \n",
       "\n",
       "                        affectation                   localisation  \\\n",
       "18   MUSEUM NAT.HIST.NATUREL.PARIS                  PARIS 16 (075)   \n",
       "176  UNIVERSITE PARIS 7                             PARIS 13 (075)   \n",
       "196  UNIVERSITE LYON 2                                  BRON (069)   \n",
       "205  ADMINISTRATION CENTRALE MEN                    PARIS  7 (075)   \n",
       "..                              ...                            ...   \n",
       "223  RECTORAT DE VERSAILLES          GUYANCOURT (ACAD. VERSAILLES)   \n",
       "224  RECTORAT D'ORLEANS                              ORLEANS (045)   \n",
       "225  UNIVERSITE GRENOBLE ALPES             ST MARTIN D HERES (038)   \n",
       "226  UNIVERSITE PARIS 5                             PARIS  6 (075)   \n",
       "\n",
       "                                                                                     link  \n",
       "18   http://www.itrf.education.gouv.fr/itrf/resultats.do?CodeConcours=A1A21IR2ES10753494R  \n",
       "176  http://www.itrf.education.gouv.fr/itrf/resultats.do?CodeConcours=D1A21IR2ECP0751723R  \n",
       "196  http://www.itrf.education.gouv.fr/itrf/resultats.do?CodeConcours=E1B22IR1EAM0691775E  \n",
       "205  http://www.itrf.education.gouv.fr/itrf/resultats.do?CodeConcours=E1D24IR2ELH0752310D  \n",
       "..                                                                                    ...  \n",
       "223  http://www.itrf.education.gouv.fr/itrf/resultats.do?CodeConcours=E1B22IR2EAM0780503Y  \n",
       "224  http://www.itrf.education.gouv.fr/itrf/resultats.do?CodeConcours=E1B22IR2EAM0450080T  \n",
       "225  http://www.itrf.education.gouv.fr/itrf/resultats.do?CodeConcours=E1B22IR2EAM0383493R  \n",
       "226  http://www.itrf.education.gouv.fr/itrf/resultats.do?CodeConcours=E1B22IR2EAM0751721N  \n",
       "\n",
       "[24 rows x 8 columns]"
      ]
     },
     "execution_count": 19,
     "metadata": {},
     "output_type": "execute_result"
    }
   ],
   "source": [
    "my_df = df[(df['corps'].isin(my_corps_selection)) & (df['emploi-type'].isin(my_job_type)) & (df['nature'] == 'Externe')].copy(); my_df"
   ]
  },
  {
   "cell_type": "code",
   "execution_count": 20,
   "metadata": {
    "collapsed": false
   },
   "outputs": [
    {
     "name": "stdout",
     "output_type": "stream",
     "text": [
      "The number of potential positions that I am interested in is: 24\n"
     ]
    }
   ],
   "source": [
    "print(\"The number of potential positions that I am interested in is: {}\".format(len(my_df)))"
   ]
  },
  {
   "cell_type": "code",
   "execution_count": 21,
   "metadata": {
    "collapsed": false
   },
   "outputs": [],
   "source": [
    "#df[196:198]['link']"
   ]
  },
  {
   "cell_type": "code",
   "execution_count": 22,
   "metadata": {
    "collapsed": false
   },
   "outputs": [
    {
     "data": {
      "text/plain": [
       "18     http://www.itrf.education.gouv.fr/itrf/resultats.do?CodeConcours=A1A21IR2ES10753494R\n",
       "176    http://www.itrf.education.gouv.fr/itrf/resultats.do?CodeConcours=D1A21IR2ECP0751723R\n",
       "196    http://www.itrf.education.gouv.fr/itrf/resultats.do?CodeConcours=E1B22IR1EAM0691775E\n",
       "205    http://www.itrf.education.gouv.fr/itrf/resultats.do?CodeConcours=E1D24IR2ELH0752310D\n",
       "207    http://www.itrf.education.gouv.fr/itrf/resultats.do?CodeConcours=E1E25IR2ET30631262E\n",
       "208    http://www.itrf.education.gouv.fr/itrf/resultats.do?CodeConcours=E1E25IR2ET30801344B\n",
       "209    http://www.itrf.education.gouv.fr/itrf/resultats.do?CodeConcours=E1E25IR2ET30595964M\n",
       "210    http://www.itrf.education.gouv.fr/itrf/resultats.do?CodeConcours=E1E25IR2ET30691774D\n",
       "Name: link, dtype: object"
      ]
     },
     "execution_count": 22,
     "metadata": {},
     "output_type": "execute_result"
    }
   ],
   "source": [
    "#my_df[0:8][['localisation','link']]\n",
    "my_df[0:8]['link']"
   ]
  },
  {
   "cell_type": "code",
   "execution_count": 23,
   "metadata": {
    "collapsed": false
   },
   "outputs": [
    {
     "data": {
      "text/plain": [
       "211    http://www.itrf.education.gouv.fr/itrf/resultats.do?CodeConcours=E1E25IR2ET30941111X\n",
       "212    http://www.itrf.education.gouv.fr/itrf/resultats.do?CodeConcours=E1E25IR2ET30751722P\n",
       "213    http://www.itrf.education.gouv.fr/itrf/resultats.do?CodeConcours=E1E25IR2ET30751722P\n",
       "214    http://www.itrf.education.gouv.fr/itrf/resultats.do?CodeConcours=E1E25IR2ET30751722P\n",
       "215    http://www.itrf.education.gouv.fr/itrf/resultats.do?CodeConcours=E1E25IR2ET30751722P\n",
       "216    http://www.itrf.education.gouv.fr/itrf/resultats.do?CodeConcours=E1E25IR2ET30751723R\n",
       "217    http://www.itrf.education.gouv.fr/itrf/resultats.do?CodeConcours=E1E25IR2ET30761904G\n",
       "218    http://www.itrf.education.gouv.fr/itrf/resultats.do?CodeConcours=E1E25IR2ET30761904G\n",
       "Name: link, dtype: object"
      ]
     },
     "execution_count": 23,
     "metadata": {},
     "output_type": "execute_result"
    }
   ],
   "source": [
    "#my_df[8:16][['localisation','link']]\n",
    "my_df[8:16]['link']"
   ]
  },
  {
   "cell_type": "code",
   "execution_count": 24,
   "metadata": {
    "collapsed": false
   },
   "outputs": [
    {
     "data": {
      "text/plain": [
       "219    http://www.itrf.education.gouv.fr/itrf/resultats.do?CodeConcours=E1E25IR2ET30673021V\n",
       "220    http://www.itrf.education.gouv.fr/itrf/resultats.do?CodeConcours=E1B22IR2EAM0130178Y\n",
       "221    http://www.itrf.education.gouv.fr/itrf/resultats.do?CodeConcours=E1B22IR2EAM0753291V\n",
       "222    http://www.itrf.education.gouv.fr/itrf/resultats.do?CodeConcours=E1B22IR2EAM0350063D\n",
       "223    http://www.itrf.education.gouv.fr/itrf/resultats.do?CodeConcours=E1B22IR2EAM0780503Y\n",
       "224    http://www.itrf.education.gouv.fr/itrf/resultats.do?CodeConcours=E1B22IR2EAM0450080T\n",
       "225    http://www.itrf.education.gouv.fr/itrf/resultats.do?CodeConcours=E1B22IR2EAM0383493R\n",
       "226    http://www.itrf.education.gouv.fr/itrf/resultats.do?CodeConcours=E1B22IR2EAM0751721N\n",
       "Name: link, dtype: object"
      ]
     },
     "execution_count": 24,
     "metadata": {},
     "output_type": "execute_result"
    }
   ],
   "source": [
    "#my_df[16:24][['localisation','link']]\n",
    "my_df[16:24]['link']"
   ]
  },
  {
   "cell_type": "markdown",
   "metadata": {},
   "source": [
    "After reading the description of the job associated to the previous links, I remove most of the \"first choices\" to keep only 2 choices:"
   ]
  },
  {
   "cell_type": "code",
   "execution_count": 25,
   "metadata": {
    "collapsed": true
   },
   "outputs": [],
   "source": [
    "rows2remove = [176, 196, 205, 208, 209, 210, 211, 212, 213, 214, 215, 216, 217, 218, 219, 220, 221, 222, 223, 224, 225, 226]"
   ]
  },
  {
   "cell_type": "code",
   "execution_count": 26,
   "metadata": {
    "collapsed": false
   },
   "outputs": [
    {
     "data": {
      "text/html": [
       "<div>\n",
       "<table border=\"1\" class=\"dataframe\">\n",
       "  <thead>\n",
       "    <tr style=\"text-align: right;\">\n",
       "      <th></th>\n",
       "      <th>bap</th>\n",
       "      <th>corps</th>\n",
       "      <th>emploi-type</th>\n",
       "      <th>nature</th>\n",
       "      <th>centre-organisateur</th>\n",
       "      <th>affectation</th>\n",
       "      <th>localisation</th>\n",
       "      <th>link</th>\n",
       "    </tr>\n",
       "  </thead>\n",
       "  <tbody>\n",
       "    <tr>\n",
       "      <th>18</th>\n",
       "      <td>A</td>\n",
       "      <td>INGENIEUR DE RECHERCHE 2E CLASSE</td>\n",
       "      <td>Ingénieur en analyse de données biologiques</td>\n",
       "      <td>Externe</td>\n",
       "      <td>UNIVERSITÉ DE STRASBOURG</td>\n",
       "      <td>MUSEUM NAT.HIST.NATUREL.PARIS</td>\n",
       "      <td>PARIS 16 (075)</td>\n",
       "      <td>http://www.itrf.education.gouv.fr/itrf/resultats.do?CodeConcours=A1A21IR2ES10753494R</td>\n",
       "    </tr>\n",
       "    <tr>\n",
       "      <th>207</th>\n",
       "      <td>E</td>\n",
       "      <td>INGENIEUR DE RECHERCHE 2E CLASSE</td>\n",
       "      <td>Chef de projet ou expert en calcul scientifique</td>\n",
       "      <td>Externe</td>\n",
       "      <td>UNIVERSITE PAUL SABATIER TOULOUSE 3</td>\n",
       "      <td>UNIVERSITE CLERMONT FERRAND 1</td>\n",
       "      <td>CLERMONT FERRAND (063)</td>\n",
       "      <td>http://www.itrf.education.gouv.fr/itrf/resultats.do?CodeConcours=E1E25IR2ET30631262E</td>\n",
       "    </tr>\n",
       "  </tbody>\n",
       "</table>\n",
       "</div>"
      ],
      "text/plain": [
       "    bap                             corps  \\\n",
       "18    A  INGENIEUR DE RECHERCHE 2E CLASSE   \n",
       "207   E  INGENIEUR DE RECHERCHE 2E CLASSE   \n",
       "\n",
       "                                         emploi-type   nature  \\\n",
       "18       Ingénieur en analyse de données biologiques  Externe   \n",
       "207  Chef de projet ou expert en calcul scientifique  Externe   \n",
       "\n",
       "                       centre-organisateur                     affectation  \\\n",
       "18                UNIVERSITÉ DE STRASBOURG  MUSEUM NAT.HIST.NATUREL.PARIS    \n",
       "207  UNIVERSITE PAUL SABATIER TOULOUSE 3    UNIVERSITE CLERMONT FERRAND 1    \n",
       "\n",
       "               localisation  \\\n",
       "18           PARIS 16 (075)   \n",
       "207  CLERMONT FERRAND (063)   \n",
       "\n",
       "                                                                                     link  \n",
       "18   http://www.itrf.education.gouv.fr/itrf/resultats.do?CodeConcours=A1A21IR2ES10753494R  \n",
       "207  http://www.itrf.education.gouv.fr/itrf/resultats.do?CodeConcours=E1E25IR2ET30631262E  "
      ]
     },
     "execution_count": 26,
     "metadata": {},
     "output_type": "execute_result"
    }
   ],
   "source": [
    "my_df = my_df.drop(rows2remove); my_df"
   ]
  },
  {
   "cell_type": "code",
   "execution_count": 27,
   "metadata": {
    "collapsed": false
   },
   "outputs": [
    {
     "data": {
      "text/plain": [
       "18     http://www.itrf.education.gouv.fr/itrf/resultats.do?CodeConcours=A1A21IR2ES10753494R\n",
       "207    http://www.itrf.education.gouv.fr/itrf/resultats.do?CodeConcours=E1E25IR2ET30631262E\n",
       "Name: link, dtype: object"
      ]
     },
     "execution_count": 27,
     "metadata": {},
     "output_type": "execute_result"
    }
   ],
   "source": [
    "my_df['link']"
   ]
  },
  {
   "cell_type": "markdown",
   "metadata": {},
   "source": [
    "#### Adding a column containing the description"
   ]
  },
  {
   "cell_type": "code",
   "execution_count": 30,
   "metadata": {
    "collapsed": true
   },
   "outputs": [],
   "source": [
    "pdf_description = ['Description_poste/18.pdf',\n",
    "                   'Description_poste/207.pdf'\n",
    "                  ]"
   ]
  },
  {
   "cell_type": "code",
   "execution_count": 31,
   "metadata": {
    "collapsed": false
   },
   "outputs": [],
   "source": [
    "my_df['description'] = pdf_description"
   ]
  },
  {
   "cell_type": "code",
   "execution_count": 32,
   "metadata": {
    "collapsed": false
   },
   "outputs": [
    {
     "data": {
      "text/plain": [
       "'Description_poste/18.pdf'"
      ]
     },
     "execution_count": 32,
     "metadata": {},
     "output_type": "execute_result"
    }
   ],
   "source": [
    "my_df['description'].iloc[0]"
   ]
  },
  {
   "cell_type": "markdown",
   "metadata": {},
   "source": [
    "### Job description: show the PDFs"
   ]
  },
  {
   "cell_type": "code",
   "execution_count": 33,
   "metadata": {
    "collapsed": false
   },
   "outputs": [
    {
     "data": {
      "text/html": [
       "\n",
       "        <iframe\n",
       "            width=\"980\"\n",
       "            height=\"700\"\n",
       "            src=\"Description_poste/18.pdf\"\n",
       "            frameborder=\"0\"\n",
       "            allowfullscreen\n",
       "        ></iframe>\n",
       "        "
      ],
      "text/plain": [
       "<IPython.lib.display.IFrame at 0x10766a710>"
      ]
     },
     "execution_count": 33,
     "metadata": {},
     "output_type": "execute_result"
    }
   ],
   "source": [
    "IFrame(my_df['description'].iloc[0], width=980, height=700)"
   ]
  },
  {
   "cell_type": "code",
   "execution_count": 36,
   "metadata": {
    "collapsed": false
   },
   "outputs": [
    {
     "data": {
      "text/html": [
       "\n",
       "        <iframe\n",
       "            width=\"980\"\n",
       "            height=\"700\"\n",
       "            src=\"Description_poste/207.pdf\"\n",
       "            frameborder=\"0\"\n",
       "            allowfullscreen\n",
       "        ></iframe>\n",
       "        "
      ],
      "text/plain": [
       "<IPython.lib.display.IFrame at 0x10766aef0>"
      ]
     },
     "execution_count": 36,
     "metadata": {},
     "output_type": "execute_result"
    }
   ],
   "source": [
    "IFrame(my_df['description'].iloc[1], width=980, height=700)"
   ]
  },
  {
   "cell_type": "markdown",
   "metadata": {},
   "source": [
    "It would be nice to include this kind of selection in a website so all people interested in this kind of position could pre-select what they are looking for. #to_do_when_I_have_time"
   ]
  }
 ],
 "metadata": {
  "kernelspec": {
   "display_name": "Python 3",
   "language": "python",
   "name": "python3"
  },
  "language_info": {
   "codemirror_mode": {
    "name": "ipython",
    "version": 3
   },
   "file_extension": ".py",
   "mimetype": "text/x-python",
   "name": "python",
   "nbconvert_exporter": "python",
   "pygments_lexer": "ipython3",
   "version": "3.5.1"
  }
 },
 "nbformat": 4,
 "nbformat_minor": 0
}
